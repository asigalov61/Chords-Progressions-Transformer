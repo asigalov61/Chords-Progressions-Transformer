{
  "cells": [
    {
      "cell_type": "markdown",
      "metadata": {
        "gradient": {
          "editing": false,
          "id": "ac5a4cf0-d9d2-47b5-9633-b53f8d99a4d2",
          "kernelId": ""
        },
        "id": "SiTIpPjArIyr"
      },
      "source": [
        "# Chords Progressions Transformer Melody Maker (ver. 1.0)\n",
        "\n",
        "***\n",
        "\n",
        "Powered by tegridy-tools: https://github.com/asigalov61/tegridy-tools\n",
        "\n",
        "***\n",
        "\n",
        "WARNING: This complete implementation is a functioning model of the Artificial Intelligence. Please excercise great humility, care, and respect. https://www.nscai.gov/\n",
        "\n",
        "***\n",
        "\n",
        "#### Project Los Angeles\n",
        "\n",
        "#### Tegridy Code 2024\n",
        "\n",
        "***"
      ]
    },
    {
      "cell_type": "markdown",
      "metadata": {
        "gradient": {
          "editing": false,
          "id": "fa0a611c-1803-42ae-bdf6-a49b5a4e781b",
          "kernelId": ""
        },
        "id": "gOd93yV0sGd2"
      },
      "source": [
        "# (SETUP ENVIRONMENT)"
      ]
    },
    {
      "cell_type": "code",
      "execution_count": null,
      "metadata": {
        "gradient": {
          "editing": false,
          "id": "a1a45a91-d909-4fd4-b67a-5e16b971d179",
          "kernelId": ""
        },
        "id": "fX12Yquyuihc",
        "cellView": "form"
      },
      "outputs": [],
      "source": [
        "#@title Install all dependencies (run only once per session)\n",
        "\n",
        "!git clone --depth 1 https://github.com/asigalov61/tegridy-tools\n",
        "!pip install torch\n",
        "!pip install einops\n",
        "!pip install torch-summary"
      ]
    },
    {
      "cell_type": "code",
      "execution_count": null,
      "metadata": {
        "gradient": {
          "editing": false,
          "id": "b8207b76-9514-4c07-95db-95a4742e52c5",
          "kernelId": ""
        },
        "id": "z7n9vnKmug1J",
        "cellView": "form"
      },
      "outputs": [],
      "source": [
        "#@title Import all needed modules\n",
        "\n",
        "print('Loading needed modules. Please wait...')\n",
        "\n",
        "import os\n",
        "import pickle\n",
        "from collections import Counter\n",
        "import secrets\n",
        "import tqdm\n",
        "import math\n",
        "import copy\n",
        "from joblib import Parallel, delayed, parallel_config\n",
        "\n",
        "import torch\n",
        "import torch.optim as optim\n",
        "from torch.utils.data import DataLoader, Dataset\n",
        "\n",
        "torch.set_float32_matmul_precision('high')\n",
        "torch.backends.cuda.matmul.allow_tf32 = True # allow tf32 on matmul\n",
        "torch.backends.cudnn.allow_tf32 = True # allow tf32 on cudnn\n",
        "\n",
        "import matplotlib.pyplot as plt\n",
        "\n",
        "from torchsummary import summary\n",
        "from sklearn import metrics\n",
        "\n",
        "print('Loading TMIDIX module...')\n",
        "\n",
        "%cd /content/tegridy-tools/tegridy-tools/\n",
        "\n",
        "import TMIDIX\n",
        "#import midi_to_colab_audio\n",
        "\n",
        "print('Loading X Transformer module...')\n",
        "\n",
        "%cd /content/tegridy-tools/tegridy-tools/X-Transformer\n",
        "\n",
        "from x_transformer_1_23_2 import *\n",
        "import random\n",
        "\n",
        "%cd /content/\n",
        "\n",
        "print('Creating I/O dirs...')\n",
        "\n",
        "if not os.path.exists('/content/Dataset'):\n",
        "    os.makedirs('/content/Dataset')\n",
        "\n",
        "if not os.path.exists('/content/DATA'):\n",
        "    os.makedirs('/content/DATA')\n",
        "\n",
        "print('Done!')\n",
        "print('PyTorch version:', torch.__version__)\n",
        "print('Enjoy! :)')"
      ]
    },
    {
      "cell_type": "markdown",
      "metadata": {
        "id": "IDybEm0PgkW4"
      },
      "source": [
        "# (DOWNLOAD AND UNZIP MIDI DATASET)"
      ]
    },
    {
      "cell_type": "code",
      "execution_count": null,
      "metadata": {
        "id": "UyfROzFdgox_",
        "cellView": "form"
      },
      "outputs": [],
      "source": [
        "# @title Download and unzip POP909 Piano Violin MIDI dataset\n",
        "%cd /content/Dataset\n",
        "!wget https://github.com/asigalov61/Tegridy-MIDI-Dataset/raw/master/Misc/POP909-Piano-Violin-CC-BY-NC-SA.zip\n",
        "!unzip POP909-Piano-Violin-CC-BY-NC-SA.zip\n",
        "!rm POP909-Piano-Violin-CC-BY-NC-SA.zip\n",
        "%cd /content/"
      ]
    },
    {
      "cell_type": "markdown",
      "source": [
        "# (LOAD MIDI PROCESSOR)"
      ],
      "metadata": {
        "id": "sjfKnkof1Oto"
      }
    },
    {
      "cell_type": "code",
      "execution_count": null,
      "metadata": {
        "id": "HkS8pYJBPSFN",
        "cellView": "form"
      },
      "outputs": [],
      "source": [
        "#@title TMIDIX MIDI Processor\n",
        "\n",
        "print('=' * 70)\n",
        "print('Loading TMIDIX MIDI Processor...')\n",
        "print('=' * 70)\n",
        "\n",
        "def TMIDIX_MIDI_Processor(midi_file):\n",
        "\n",
        "    melody_chords = []\n",
        "\n",
        "    try:\n",
        "\n",
        "        fn = os.path.basename(midi_file)\n",
        "\n",
        "        raw_score = TMIDIX.midi2single_track_ms_score(open(midi_file, 'rb').read())\n",
        "\n",
        "        raw_escore = TMIDIX.advanced_score_processor(raw_score, return_enhanced_score_notes=True)[0]\n",
        "\n",
        "        out_scores = []\n",
        "\n",
        "        for tv in range(-6, 6):\n",
        "\n",
        "          escore = copy.deepcopy(raw_escore)\n",
        "\n",
        "          for e in escore:\n",
        "            e[1] = int(e[1] / 16)\n",
        "            e[2] = int(e[2] / 16)\n",
        "            e[4] += tv\n",
        "\n",
        "          cscore = TMIDIX.chordify_score([1000, escore])\n",
        "\n",
        "          out_score = []\n",
        "\n",
        "          chords_tokens = []\n",
        "          chords_pitches = []\n",
        "\n",
        "          for c in cscore:\n",
        "\n",
        "            chans = sorted(set([t[3] for t in c]))\n",
        "\n",
        "            tones_chord = sorted(set([t[4] % 12 for t in c]))\n",
        "\n",
        "            if 3 in chans and 0 in chans:\n",
        "              try:\n",
        "                chord_token = TMIDIX.ALL_CHORDS_SORTED.index(tones_chord)\n",
        "              except:\n",
        "                chord_token = TMIDIX.ALL_CHORDS_SORTED.index(TMIDIX.check_and_fix_tones_chord(tones_chord))\n",
        "\n",
        "              chords_tokens.append(chord_token+128)\n",
        "\n",
        "            if chords_tokens:\n",
        "              if len(chords_tokens) > 1:\n",
        "                chords_pitches_group = chords_tokens + chords_pitches\n",
        "                out_score.extend(chords_pitches_group)\n",
        "                chords_tokens = [chords_tokens[-1]]\n",
        "                chords_pitches = []\n",
        "\n",
        "              if 3 in chans:\n",
        "                pitches = sorted(set([t[4] for t in c if t[3] == 3]))[-1]\n",
        "\n",
        "                chords_pitches.append(pitches)\n",
        "\n",
        "          out_scores.append(out_score)\n",
        "\n",
        "        return out_scores\n",
        "\n",
        "    except:\n",
        "      return None\n",
        "\n",
        "print('Done!')\n",
        "print('=' * 70)"
      ]
    },
    {
      "cell_type": "markdown",
      "metadata": {
        "id": "JwrqQeie08t0"
      },
      "source": [
        "# (FILES LIST)"
      ]
    },
    {
      "cell_type": "code",
      "execution_count": null,
      "metadata": {
        "cellView": "form",
        "id": "1s_9bVGrPU_q"
      },
      "outputs": [],
      "source": [
        "#@title Save file list\n",
        "###########\n",
        "\n",
        "print('=' * 70)\n",
        "print('Loading MIDI files...')\n",
        "print('This may take a while on a large dataset in particular.')\n",
        "\n",
        "dataset_addr = \"/content/Dataset\"\n",
        "\n",
        "# os.chdir(dataset_addr)\n",
        "filez = list()\n",
        "for (dirpath, dirnames, filenames) in os.walk(dataset_addr):\n",
        "    filez += [os.path.join(dirpath, file) for file in filenames]\n",
        "print('=' * 70)\n",
        "\n",
        "if not filez:\n",
        "    print('Could not find any MIDI files. Please check Dataset dir...')\n",
        "    print('=' * 70)\n",
        "\n",
        "else:\n",
        "  print('Randomizing file list...')\n",
        "  random.shuffle(filez)\n",
        "  print('Done!')\n",
        "  print('=' * 70)\n",
        "  print('Total files:', len(filez))\n",
        "  print('=' * 70)"
      ]
    },
    {
      "cell_type": "markdown",
      "metadata": {
        "id": "FLxHvO-wlwfU"
      },
      "source": [
        "# (PROCESS MIDIs)"
      ]
    },
    {
      "cell_type": "code",
      "execution_count": null,
      "metadata": {
        "id": "nFkq_d4nPVmW",
        "cellView": "form"
      },
      "outputs": [],
      "source": [
        "#@title Process MIDIs with TMIDIX MIDI processor\n",
        "\n",
        "print('=' * 70)\n",
        "print('TMIDIX MIDI Processor')\n",
        "print('=' * 70)\n",
        "print('Starting up...')\n",
        "print('=' * 70)\n",
        "\n",
        "###########\n",
        "\n",
        "melody_chords_f = []\n",
        "\n",
        "print('Processing MIDI files. Please wait...')\n",
        "print('=' * 70)\n",
        "\n",
        "for i in tqdm.tqdm(range(0, len(filez), 16)):\n",
        "\n",
        "  with parallel_config(backend='threading', n_jobs=4, verbose = 0):\n",
        "\n",
        "    output = Parallel()(delayed(TMIDIX_MIDI_Processor)(f) for f in filez[i:i+16])\n",
        "\n",
        "    for o in output:\n",
        "        if o is not None:\n",
        "            melody_chords_f.append(o)\n",
        "\n",
        "print('Done!')\n",
        "print('=' * 70)"
      ]
    },
    {
      "cell_type": "markdown",
      "source": [
        "# (SAVE/LOAD PROCESSED MIDIs)"
      ],
      "metadata": {
        "id": "JIVuL6Wr16nW"
      }
    },
    {
      "cell_type": "code",
      "execution_count": null,
      "metadata": {
        "id": "zjGwEKInQT8a",
        "cellView": "form"
      },
      "outputs": [],
      "source": [
        "#@title Save processed MIDIs\n",
        "TMIDIX.Tegridy_Any_Pickle_File_Writer(melody_chords_f, '/content/DATA/Processed_MIDIs')"
      ]
    },
    {
      "cell_type": "code",
      "execution_count": null,
      "metadata": {
        "id": "lZGSjKe9QUey",
        "cellView": "form"
      },
      "outputs": [],
      "source": [
        "# @title Load processed MIDIs\n",
        "melody_chords_f = TMIDIX.Tegridy_Any_Pickle_File_Reader('/content/DATA/Processed_MIDIs')\n",
        "print('Done!')"
      ]
    },
    {
      "cell_type": "markdown",
      "metadata": {
        "id": "4hlZohOTSKqq"
      },
      "source": [
        "# (PREP INTs)"
      ]
    },
    {
      "cell_type": "code",
      "execution_count": null,
      "metadata": {
        "id": "EMX0ynkxPtGH",
        "cellView": "form"
      },
      "outputs": [],
      "source": [
        "# @title Convert processed MIDIs to INTs for training\n",
        "\n",
        "print('=' * 70)\n",
        "\n",
        "train_data = []\n",
        "\n",
        "for m in tqdm.tqdm(melody_chords_f):\n",
        "\n",
        "    for mm in m:\n",
        "\n",
        "      dat = copy.deepcopy(mm)\n",
        "\n",
        "      dat = dat[:4097]\n",
        "      dat += [449] * (4097 - len(dat))\n",
        "      train_data.append(dat)\n",
        "\n",
        "random.shuffle(train_data)\n",
        "\n",
        "print('Done!')\n",
        "print('=' * 70)\n",
        "if len(max(train_data, key=len)) == len(min(train_data, key=len)):\n",
        "  print('All data is good!')\n",
        "else:\n",
        "  print('WARNING!!! BAD DATA!!!')\n",
        "print('=' * 70)\n",
        "\n",
        "lens = []\n",
        "\n",
        "for t in train_data:\n",
        "  lens.append(len(t))\n",
        "\n",
        "print(max(lens), sum(lens) / len(lens), min(lens))\n",
        "print('=' * 70)\n",
        "print('Done!')\n",
        "print('=' * 70)"
      ]
    },
    {
      "cell_type": "markdown",
      "source": [
        "# (SAVE/LOAD TRAINING INTs)"
      ],
      "metadata": {
        "id": "3FLw4Pyy20nK"
      }
    },
    {
      "cell_type": "code",
      "execution_count": null,
      "metadata": {
        "id": "Z-omEbFmVlOI",
        "cellView": "form"
      },
      "outputs": [],
      "source": [
        "# @title Save INTs\n",
        "TMIDIX.Tegridy_Any_Pickle_File_Writer(train_data, '/content/DATA/Training_INTs')"
      ]
    },
    {
      "cell_type": "code",
      "execution_count": null,
      "metadata": {
        "id": "R7FtGA4lZ8ub",
        "cellView": "form"
      },
      "outputs": [],
      "source": [
        "# @title Load INTs\n",
        "train_data = TMIDIX.Tegridy_Any_Pickle_File_Reader('/content/DATA/Training_INTs')\n",
        "print('Done!')"
      ]
    },
    {
      "cell_type": "markdown",
      "source": [
        "# (TEST INTs BEFORE TRAINING)"
      ],
      "metadata": {
        "id": "pgHcvZIS3jBr"
      }
    },
    {
      "cell_type": "code",
      "execution_count": null,
      "metadata": {
        "id": "pvcxH5_CHwLZ",
        "cellView": "form"
      },
      "outputs": [],
      "source": [
        "#@title Test INTs\n",
        "\n",
        "train_data1 = random.choice(train_data)\n",
        "\n",
        "#train_data1 = max(melody_chords_f, key = len)\n",
        "\n",
        "print('Sample INTs', train_data1[:15])\n",
        "\n",
        "out = train_data1\n",
        "\n",
        "patches = [0] * 16\n",
        "patches[3] = 40\n",
        "\n",
        "if len(out) != 0:\n",
        "\n",
        "    song = out\n",
        "    song_f = []\n",
        "\n",
        "    time = 0\n",
        "    dur = 10\n",
        "    vel = 90\n",
        "    pitch = 0\n",
        "    channel = 0\n",
        "\n",
        "    song1 = []\n",
        "    ptc = []\n",
        "    cho = []\n",
        "\n",
        "    for s in song:\n",
        "      if s < 128:\n",
        "        ptc.append(s)\n",
        "      else:\n",
        "        if ptc:\n",
        "          grp = [cho, ptc]\n",
        "          song1.append(grp)\n",
        "          cho = []\n",
        "          ptc = []\n",
        "\n",
        "        cho.append(s)\n",
        "\n",
        "    for ss in song1:\n",
        "\n",
        "      tones_chord = TMIDIX.ALL_CHORDS_SORTED[(ss[0][0]-128)]\n",
        "\n",
        "      dur = 64\n",
        "\n",
        "      for t in tones_chord:\n",
        "        song_f.append(['note', time * 16, dur * 16, 0, 60+t, vel ])\n",
        "        song_f.append(['note', time * 16, dur * 16, 0, 48+t, vel ])\n",
        "\n",
        "      ptc_count = len(ss[1])\n",
        "      ptc_time_dur = dur // ptc_count\n",
        "\n",
        "      for p in ss[1]:\n",
        "        song_f.append(['note', time * 16, ptc_time_dur * 16, 3, p, vel ])\n",
        "        time += ptc_time_dur\n",
        "\n",
        "detailed_stats = TMIDIX.Tegridy_ms_SONG_to_MIDI_Converter(song_f,\n",
        "                                                          output_signature = 'Chords Progressions Transformer',\n",
        "                                                          output_file_name = '/content/Chords-progressions-Transformer-Composition',\n",
        "                                                          track_name='Project Los Angeles',\n",
        "                                                          list_of_MIDI_patches=patches\n",
        "                                                          )"
      ]
    },
    {
      "cell_type": "markdown",
      "source": [
        "# (INIT THE MODEL)"
      ],
      "metadata": {
        "id": "GffpdFhb34dc"
      }
    },
    {
      "cell_type": "code",
      "execution_count": null,
      "metadata": {
        "id": "YVYD6nEGwU8z",
        "cellView": "form"
      },
      "outputs": [],
      "source": [
        "# @title Setup and init the model\n",
        "\n",
        "# constants\n",
        "\n",
        "SEQ_LEN = 4096 # Models seq len\n",
        "PAD_IDX = 449 # Models pad index\n",
        "\n",
        "BATCH_SIZE = 16\n",
        "NUM_EPOCHS = 300\n",
        "GRADIENT_ACCUMULATE_EVERY = 1\n",
        "\n",
        "\n",
        "LEARNING_RATE = 1e-4\n",
        "\n",
        "VALIDATE_EVERY  = 100\n",
        "SAVE_EVERY = 500\n",
        "GENERATE_EVERY  = 100\n",
        "PRINT_STATS_EVERY = 20\n",
        "\n",
        "GENERATE_LENGTH = 32\n",
        "\n",
        "# helpers\n",
        "\n",
        "def cycle(loader):\n",
        "    while True:\n",
        "        for data in loader:\n",
        "            yield data\n",
        "\n",
        "# instantiate the model\n",
        "\n",
        "model = TransformerWrapper(\n",
        "    num_tokens = PAD_IDX+1,\n",
        "    max_seq_len = SEQ_LEN,\n",
        "    attn_layers = Decoder(dim = 1024, depth = 4, heads = 8, attn_flash = True)\n",
        "    )\n",
        "\n",
        "model = AutoregressiveWrapper(model, ignore_index=PAD_IDX, pad_value=PAD_IDX)\n",
        "\n",
        "model.cuda()\n",
        "\n",
        "print('Done!')\n",
        "\n",
        "summary(model)\n",
        "\n",
        "# Dataloader\n",
        "\n",
        "class MusicDataset(Dataset):\n",
        "    def __init__(self, data, seq_len):\n",
        "        super().__init__()\n",
        "        self.data = data\n",
        "        self.seq_len = seq_len\n",
        "\n",
        "    def __getitem__(self, index):\n",
        "\n",
        "        full_seq = torch.Tensor(self.data[index][:self.seq_len+1]).long()\n",
        "\n",
        "        return full_seq.cuda()\n",
        "\n",
        "    def __len__(self):\n",
        "        return (len(self.data) // BATCH_SIZE) * BATCH_SIZE\n",
        "\n",
        "# precision/optimizer/scaler\n",
        "\n",
        "dtype = torch.float16\n",
        "\n",
        "ctx = torch.amp.autocast(device_type='cuda', dtype=dtype, enabled=True)\n",
        "\n",
        "optim = torch.optim.Adam(model.parameters(), lr=LEARNING_RATE)\n",
        "\n",
        "scaler = torch.cuda.amp.GradScaler(enabled=True)"
      ]
    },
    {
      "cell_type": "markdown",
      "source": [
        "# (TRAIN)"
      ],
      "metadata": {
        "id": "4e15_GQB4IMU"
      }
    },
    {
      "cell_type": "code",
      "execution_count": null,
      "metadata": {
        "id": "p0viaFQJwzaf",
        "cellView": "form"
      },
      "outputs": [],
      "source": [
        "# @title Train the model\n",
        "\n",
        "train_losses = []\n",
        "val_losses = []\n",
        "\n",
        "train_accs = []\n",
        "val_accs = []\n",
        "\n",
        "nsteps = 0\n",
        "\n",
        "for ep in range(NUM_EPOCHS):\n",
        "\n",
        "  print('=' * 70)\n",
        "  print('Epoch #', ep)\n",
        "  print('=' * 70)\n",
        "\n",
        "  random.shuffle(train_data)\n",
        "\n",
        "  train_dataset = MusicDataset(train_data, SEQ_LEN)\n",
        "  val_dataset   = MusicDataset(train_data, SEQ_LEN)\n",
        "  train_loader  = cycle(DataLoader(train_dataset, batch_size = BATCH_SIZE))\n",
        "  val_loader    = cycle(DataLoader(val_dataset, batch_size = BATCH_SIZE))\n",
        "\n",
        "  NUM_BATCHES = len(train_data) // BATCH_SIZE // GRADIENT_ACCUMULATE_EVERY\n",
        "\n",
        "  for i in tqdm.tqdm(range(NUM_BATCHES), mininterval=10., desc='Training'):\n",
        "      model.train()\n",
        "\n",
        "      for __ in range(GRADIENT_ACCUMULATE_EVERY):\n",
        "          with ctx:\n",
        "              loss, acc = model(next(train_loader))\n",
        "          #loss = loss / GRADIENT_ACCUMULATE_EVERY\n",
        "          scaler.scale(loss).backward()\n",
        "\n",
        "      if i % PRINT_STATS_EVERY == 0:\n",
        "          print(f'Training loss: {loss.mean().item() * GRADIENT_ACCUMULATE_EVERY}')\n",
        "          print(f'Training acc: {acc.mean().item()}')\n",
        "\n",
        "      train_losses.append(loss.mean().item() * GRADIENT_ACCUMULATE_EVERY)\n",
        "      train_accs.append(acc.mean().item())\n",
        "\n",
        "      scaler.unscale_(optim)\n",
        "      torch.nn.utils.clip_grad_norm_(model.parameters(), 0.5)\n",
        "      scaler.step(optim)\n",
        "      scaler.update()\n",
        "      optim.zero_grad(set_to_none=True)\n",
        "\n",
        "      nsteps += 1\n",
        "\n",
        "      if i % VALIDATE_EVERY == 0:\n",
        "        model.eval()\n",
        "        with torch.no_grad():\n",
        "          with ctx:\n",
        "            val_loss, val_acc = model(next(val_loader))\n",
        "\n",
        "            print(f'Validation loss: {val_loss.mean().item()}')\n",
        "            print(f'Validation acc: {val_acc.mean().item()}')\n",
        "\n",
        "            val_losses.append(val_loss.mean().item())\n",
        "            val_accs.append(val_acc.mean().item())\n",
        "\n",
        "            print('Plotting training loss graph...')\n",
        "\n",
        "            tr_loss_list = train_losses\n",
        "            plt.plot([i for i in range(len(tr_loss_list))] ,tr_loss_list, 'b')\n",
        "            plt.show()\n",
        "            plt.close()\n",
        "            print('Done!')\n",
        "\n",
        "            print('Plotting training acc graph...')\n",
        "\n",
        "            tr_loss_list = train_accs\n",
        "            plt.plot([i for i in range(len(tr_loss_list))] ,tr_loss_list, 'b')\n",
        "            plt.show()\n",
        "            plt.close()\n",
        "            print('Done!')\n",
        "\n",
        "            print('Plotting validation loss graph...')\n",
        "            tr_loss_list = val_losses\n",
        "            plt.plot([i for i in range(len(tr_loss_list))] ,tr_loss_list, 'b')\n",
        "            plt.show()\n",
        "            plt.close()\n",
        "            print('Done!')\n",
        "\n",
        "            print('Plotting validation acc graph...')\n",
        "            tr_loss_list = val_accs\n",
        "            plt.plot([i for i in range(len(tr_loss_list))] ,tr_loss_list, 'b')\n",
        "            plt.show()\n",
        "            plt.close()\n",
        "            print('Done!')\n",
        "\n",
        "      if i % GENERATE_EVERY == 0:\n",
        "        model.eval()\n",
        "\n",
        "        inp = random.choice(val_dataset)[:-1]\n",
        "\n",
        "        print(inp)\n",
        "\n",
        "        with ctx:\n",
        "\n",
        "            sample = model.generate(inp[None, ...], GENERATE_LENGTH)\n",
        "\n",
        "        print(sample)\n",
        "\n",
        "      if i % SAVE_EVERY == 0:\n",
        "\n",
        "          print('Saving model progress. Please wait...')\n",
        "          print('model_checkpoint_' + str(nsteps) + '_steps_' + str(round(float(train_losses[-1]), 4)) + '_loss_' + str(round(float(train_accs[-1]), 4)) + '_acc.pth')\n",
        "\n",
        "          fname = '/content/model_checkpoint_' + str(nsteps) + '_steps_' + str(round(float(train_losses[-1]), 4)) + '_loss_' + str(round(float(train_accs[-1]), 4)) + '_acc.pth'\n",
        "\n",
        "          torch.save(model.state_dict(), fname)\n",
        "\n",
        "          data = [train_losses, train_accs, val_losses, val_accs]\n",
        "\n",
        "          TMIDIX.Tegridy_Any_Pickle_File_Writer(data, '/content/losses_accs')\n",
        "\n",
        "          print('Done!')\n",
        "\n",
        "#======================================================================================================\n",
        "\n",
        "print('Saving model progress. Please wait...')\n",
        "print('model_checkpoint_' + str(nsteps) + '_steps_' + str(round(float(train_losses[-1]), 4)) + '_loss_' + str(round(float(train_accs[-1]), 4)) + '_acc.pth')\n",
        "\n",
        "fname = '/content/model_checkpoint_' + str(nsteps) + '_steps_' + str(round(float(train_losses[-1]), 4)) + '_loss_' + str(round(float(train_accs[-1]), 4)) + '_acc.pth'\n",
        "\n",
        "torch.save(model.state_dict(), fname)\n",
        "\n",
        "print('Done!')\n",
        "\n",
        "data = [train_losses, train_accs, val_losses, val_accs]\n",
        "\n",
        "TMIDIX.Tegridy_Any_Pickle_File_Writer(data, '/content/losses_accuracies')\n",
        "\n",
        "# Save training loss graph\n",
        "\n",
        "plt.plot([i for i in range(len(train_losses))] ,train_losses, 'b')\n",
        "plt.savefig('/content/training_loss_graph.png')\n",
        "plt.close()\n",
        "print('Done!')\n",
        "\n",
        "# Save training acc graph\n",
        "\n",
        "plt.plot([i for i in range(len(train_accs))] ,train_accs, 'b')\n",
        "plt.savefig('/content/training_acc_graph.png')\n",
        "plt.close()\n",
        "print('Done!')\n",
        "\n",
        "# Save validation loss graph\n",
        "\n",
        "plt.plot([i for i in range(len(val_losses))] ,val_losses, 'b')\n",
        "plt.savefig('/content/validation_loss_graph.png')\n",
        "plt.close()\n",
        "print('Done!')\n",
        "\n",
        "# Save validation acc graph\n",
        "\n",
        "plt.plot([i for i in range(len(val_accs))] ,val_accs, 'b')\n",
        "plt.savefig('/content/validation_acc_graph.png')\n",
        "plt.close()\n",
        "print('Done!')"
      ]
    },
    {
      "cell_type": "markdown",
      "metadata": {
        "id": "gGu6ivTtrb_Z"
      },
      "source": [
        "# EVAL"
      ]
    },
    {
      "cell_type": "code",
      "execution_count": null,
      "metadata": {
        "id": "eIIqeaipzVil",
        "cellView": "form"
      },
      "outputs": [],
      "source": [
        "# @title Eval the model\n",
        "\n",
        "model.eval()\n",
        "\n",
        "x = torch.tensor(train_data[0][:512], dtype=torch.long, device='cuda')[None, ...]\n",
        "#x = torch.tensor([[128]] * 1, dtype=torch.long, device='cuda')\n",
        "\n",
        "# run generation\n",
        "\n",
        "with ctx:\n",
        "    out = model.generate(x,\n",
        "                        512,\n",
        "                        temperature=0.9,\n",
        "                        return_prime=False,\n",
        "                        verbose=True)\n",
        "\n",
        "y = out.tolist()\n",
        "\n",
        "print('=' * 70)\n",
        "print(y[0][:15])\n",
        "print('=' * 70)"
      ]
    },
    {
      "cell_type": "code",
      "source": [
        "#@title Test model output\n",
        "\n",
        "train_data1 = y[0]\n",
        "\n",
        "print('Sample INTs', train_data1[:15])\n",
        "\n",
        "out = train_data1\n",
        "\n",
        "patches = [0] * 16\n",
        "patches[3] = 40\n",
        "\n",
        "if len(out) != 0:\n",
        "\n",
        "    song = out\n",
        "    song_f = []\n",
        "\n",
        "    time = 0\n",
        "    dur = 10\n",
        "    vel = 90\n",
        "    pitch = 0\n",
        "    channel = 0\n",
        "\n",
        "    song1 = []\n",
        "    ptc = []\n",
        "    cho = []\n",
        "\n",
        "    for s in song:\n",
        "      if s < 128:\n",
        "        ptc.append(s)\n",
        "      else:\n",
        "        if ptc:\n",
        "          grp = [cho, ptc]\n",
        "          song1.append(grp)\n",
        "          cho = []\n",
        "          ptc = []\n",
        "\n",
        "        cho.append(s)\n",
        "\n",
        "    for ss in song1:\n",
        "\n",
        "      tones_chord = TMIDIX.ALL_CHORDS_SORTED[(ss[0][0]-128)]\n",
        "\n",
        "      dur = 64\n",
        "\n",
        "      for t in tones_chord:\n",
        "        song_f.append(['note', time * 16, dur * 16, 0, 60+t, vel ])\n",
        "        song_f.append(['note', time * 16, dur * 16, 0, 48+t, vel ])\n",
        "\n",
        "      ptc_count = len(ss[1])\n",
        "      ptc_time_dur = dur // ptc_count\n",
        "\n",
        "      for p in ss[1]:\n",
        "        song_f.append(['note', time * 16, ptc_time_dur * 16, 3, p, vel ])\n",
        "        time += ptc_time_dur\n",
        "\n",
        "detailed_stats = TMIDIX.Tegridy_ms_SONG_to_MIDI_Converter(song_f,\n",
        "                                                          output_signature = 'Chords Progressions Transformer',\n",
        "                                                          output_file_name = '/content/Chords-Progressions-Transformer-Composition',\n",
        "                                                          track_name='Project Los Angeles',\n",
        "                                                          list_of_MIDI_patches=patches\n",
        "                                                          )"
      ],
      "metadata": {
        "id": "o2CUTAAp4bG_",
        "cellView": "form"
      },
      "execution_count": null,
      "outputs": []
    },
    {
      "cell_type": "markdown",
      "source": [
        "# (TOKENS EMBEDDINGS)"
      ],
      "metadata": {
        "id": "e7xnRcSt5AbX"
      }
    },
    {
      "cell_type": "code",
      "execution_count": null,
      "metadata": {
        "id": "8745GbH2zYpZ",
        "cellView": "form"
      },
      "outputs": [],
      "source": [
        "# @title Explore model tokens embeddings\n",
        "tok_emb = model.net.token_emb.emb.weight.detach().cpu().tolist()\n",
        "\n",
        "cos_sim = metrics.pairwise_distances(\n",
        "  tok_emb, metric='cosine'\n",
        ")\n",
        "plt.figure(figsize=(7, 7))\n",
        "plt.imshow(cos_sim, cmap=\"inferno\", interpolation=\"nearest\")\n",
        "im_ratio = cos_sim.shape[0] / cos_sim.shape[1]\n",
        "plt.colorbar(fraction=0.046 * im_ratio, pad=0.04)\n",
        "plt.xlabel(\"Position\")\n",
        "plt.ylabel(\"Position\")\n",
        "plt.tight_layout()\n",
        "plt.plot()\n",
        "plt.savefig(\"/content/Chords-Progressions-Transformer-Tokens-Embeddings-Plot.png\", bbox_inches=\"tight\")"
      ]
    },
    {
      "cell_type": "markdown",
      "metadata": {
        "id": "YzCMd94Tu_gz"
      },
      "source": [
        "# Congrats! You did it! :)"
      ]
    }
  ],
  "metadata": {
    "colab": {
      "private_outputs": true,
      "provenance": [],
      "gpuType": "T4"
    },
    "kernelspec": {
      "display_name": "Python 3",
      "name": "python3"
    },
    "language_info": {
      "codemirror_mode": {
        "name": "ipython",
        "version": 3
      },
      "file_extension": ".py",
      "mimetype": "text/x-python",
      "name": "python",
      "nbconvert_exporter": "python",
      "pygments_lexer": "ipython3",
      "version": "3.8.10"
    },
    "accelerator": "GPU"
  },
  "nbformat": 4,
  "nbformat_minor": 0
}