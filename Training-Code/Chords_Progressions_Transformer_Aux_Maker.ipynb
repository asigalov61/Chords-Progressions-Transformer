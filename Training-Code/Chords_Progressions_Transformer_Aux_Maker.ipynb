{
  "cells": [
    {
      "cell_type": "markdown",
      "metadata": {
        "gradient": {
          "editing": false,
          "id": "ac5a4cf0-d9d2-47b5-9633-b53f8d99a4d2",
          "kernelId": ""
        },
        "id": "SiTIpPjArIyr"
      },
      "source": [
        "# Chords Progressions Transformer Aux Maker (ver. 1.0)\n",
        "\n",
        "***\n",
        "\n",
        "Powered by tegridy-tools: https://github.com/asigalov61/tegridy-tools\n",
        "\n",
        "***\n",
        "\n",
        "WARNING: This complete implementation is a functioning model of the Artificial Intelligence. Please excercise great humility, care, and respect. https://www.nscai.gov/\n",
        "\n",
        "***\n",
        "\n",
        "#### Project Los Angeles\n",
        "\n",
        "#### Tegridy Code 2024\n",
        "\n",
        "***"
      ]
    },
    {
      "cell_type": "markdown",
      "metadata": {
        "gradient": {
          "editing": false,
          "id": "fa0a611c-1803-42ae-bdf6-a49b5a4e781b",
          "kernelId": ""
        },
        "id": "gOd93yV0sGd2"
      },
      "source": [
        "# (SETUP ENVIRONMENT)"
      ]
    },
    {
      "cell_type": "code",
      "execution_count": null,
      "metadata": {
        "id": "RXK4JR0y1uX0",
        "cellView": "form"
      },
      "outputs": [],
      "source": [
        "# @title NVIDIA GPU Check\n",
        "!nvidia-smi"
      ]
    },
    {
      "cell_type": "code",
      "execution_count": null,
      "metadata": {
        "cellView": "form",
        "gradient": {
          "editing": false,
          "id": "a1a45a91-d909-4fd4-b67a-5e16b971d179",
          "kernelId": ""
        },
        "id": "fX12Yquyuihc"
      },
      "outputs": [],
      "source": [
        "#@title Install all dependencies (run only once per session)\n",
        "!git clone --depth 1 https://github.com/asigalov61/tegridy-tools\n",
        "!pip install einops\n",
        "!pip install torch-summary"
      ]
    },
    {
      "cell_type": "code",
      "execution_count": null,
      "metadata": {
        "cellView": "form",
        "gradient": {
          "editing": false,
          "id": "b8207b76-9514-4c07-95db-95a4742e52c5",
          "kernelId": ""
        },
        "id": "z7n9vnKmug1J"
      },
      "outputs": [],
      "source": [
        "#@title Import all needed modules\n",
        "\n",
        "print('Loading modules...')\n",
        "\n",
        "import os\n",
        "import pickle\n",
        "import secrets\n",
        "import statistics\n",
        "import tqdm\n",
        "import math\n",
        "import copy\n",
        "import torch\n",
        "import torch.optim as optim\n",
        "from torch.utils.data import DataLoader, Dataset\n",
        "\n",
        "import matplotlib.pyplot as plt\n",
        "\n",
        "from torchsummary import summary\n",
        "from sklearn import metrics\n",
        "\n",
        "%cd /content/tegridy-tools/tegridy-tools/\n",
        "\n",
        "import TMIDIX\n",
        "\n",
        "%cd /content/tegridy-tools/tegridy-tools/X-Transformer\n",
        "\n",
        "from x_transformer_1_23_2 import *\n",
        "\n",
        "torch.set_float32_matmul_precision('high')\n",
        "torch.backends.cuda.matmul.allow_tf32 = True # allow tf32 on matmul\n",
        "torch.backends.cudnn.allow_tf32 = True # allow tf32 on cudnn\n",
        "\n",
        "%cd /content/\n",
        "\n",
        "if not os.path.exists('/content/Dataset'):\n",
        "    os.makedirs('/content/Dataset')\n",
        "\n",
        "if not os.path.exists('/content/INTS'):\n",
        "    os.makedirs('/content/INTS')\n",
        "\n",
        "import random\n",
        "\n",
        "from joblib import Parallel, delayed, parallel_config\n",
        "\n",
        "print('PyTorch version:', torch.__version__)\n",
        "print('Done')"
      ]
    },
    {
      "cell_type": "markdown",
      "metadata": {
        "id": "IDybEm0PgkW4"
      },
      "source": [
        "# (DOWNLOAD AND UNZIP MIDI DATASET)"
      ]
    },
    {
      "cell_type": "code",
      "execution_count": null,
      "metadata": {
        "id": "UyfROzFdgox_",
        "cellView": "form"
      },
      "outputs": [],
      "source": [
        "# @title Download and unzip Beautiful Music Seeds MIDI Dataset\n",
        "%cd /content/Dataset\n",
        "!wget https://github.com/asigalov61/Tegridy-MIDI-Dataset/raw/master/Beautiful-Music-Seeds-CC-BY-NC-SA.zip\n",
        "!unzip Beautiful-Music-Seeds-CC-BY-NC-SA.zip\n",
        "!rm Beautiful-Music-Seeds-CC-BY-NC-SA.zip\n",
        "%cd /content/"
      ]
    },
    {
      "cell_type": "markdown",
      "metadata": {
        "id": "FLxHvO-wlwfU"
      },
      "source": [
        "# (MIDI PROCESSOR)"
      ]
    },
    {
      "cell_type": "code",
      "execution_count": null,
      "metadata": {
        "id": "HkS8pYJBPSFN",
        "cellView": "form"
      },
      "outputs": [],
      "source": [
        "#@title Load TMIDIX MIDI Processor\n",
        "\n",
        "print('=' * 70)\n",
        "print('Loading TMIDIX MIDI Processor...')\n",
        "print('=' * 70)\n",
        "\n",
        "def TMIDIX_MIDI_Processor(midi_file):\n",
        "\n",
        "    melody_chords = []\n",
        "\n",
        "    try:\n",
        "\n",
        "        fn = os.path.basename(midi_file)\n",
        "\n",
        "        #=======================================================\n",
        "        # START PROCESSING\n",
        "\n",
        "        raw_score = TMIDIX.midi2single_track_ms_score(midi_file)\n",
        "\n",
        "        escore_notes = TMIDIX.advanced_score_processor(raw_score, return_enhanced_score_notes=True)[0]\n",
        "\n",
        "        escore_notes = TMIDIX.augment_enhanced_score_notes(escore_notes)\n",
        "\n",
        "        all_scores = []\n",
        "\n",
        "        for pa in range(-6, 6):\n",
        "\n",
        "          escore_paug = copy.deepcopy(escore_notes)\n",
        "\n",
        "          for e in escore_paug:\n",
        "            e[4] += pa\n",
        "\n",
        "          cscore = TMIDIX.chordify_score([1000, escore_paug])\n",
        "\n",
        "          chords = [321]\n",
        "\n",
        "          for c in cscore:\n",
        "\n",
        "            tones_chord = sorted(set([cc[4] % 12 for cc in c]))\n",
        "\n",
        "            if tones_chord:\n",
        "\n",
        "              try:\n",
        "                chord_tok = TMIDIX.ALL_CHORDS_SORTED.index(tones_chord)\n",
        "                chords.append(chord_tok)\n",
        "              except:\n",
        "                continue\n",
        "\n",
        "          if chords:\n",
        "            all_scores.append(chords)\n",
        "\n",
        "        return all_scores\n",
        "\n",
        "    except Exception as e:\n",
        "      print('Error!')\n",
        "      print('Exception', e)\n",
        "      return None\n",
        "\n",
        "print('Done!')\n",
        "print('=' * 70)"
      ]
    },
    {
      "cell_type": "markdown",
      "metadata": {
        "id": "JwrqQeie08t0"
      },
      "source": [
        "# (FILE LIST)"
      ]
    },
    {
      "cell_type": "code",
      "execution_count": null,
      "metadata": {
        "cellView": "form",
        "id": "1s_9bVGrPU_q"
      },
      "outputs": [],
      "source": [
        "#@title Save file list\n",
        "###########\n",
        "\n",
        "print('=' * 70)\n",
        "print('Loading MIDI files...')\n",
        "print('This may take a while on a large dataset in particular.')\n",
        "\n",
        "dataset_addr = \"/content/Dataset\"\n",
        "\n",
        "# os.chdir(dataset_addr)\n",
        "filez = list()\n",
        "for (dirpath, dirnames, filenames) in os.walk(dataset_addr):\n",
        "    filez += [os.path.join(dirpath, file) for file in filenames]\n",
        "print('=' * 70)\n",
        "\n",
        "if not filez:\n",
        "    print('Could not find any MIDI files. Please check Dataset dir...')\n",
        "    print('=' * 70)\n",
        "\n",
        "else:\n",
        "  print('Randomizing file list...')\n",
        "  random.shuffle(filez)\n",
        "  print('Done!')\n",
        "  print('=' * 70)\n",
        "  print('Total files:', len(filez))\n",
        "  print('=' * 70)"
      ]
    },
    {
      "cell_type": "markdown",
      "source": [
        "# (PROCESS MIDIs)"
      ],
      "metadata": {
        "id": "bv2HwDkzri5d"
      }
    },
    {
      "cell_type": "code",
      "execution_count": null,
      "metadata": {
        "id": "nFkq_d4nPVmW",
        "cellView": "form"
      },
      "outputs": [],
      "source": [
        "#@title Process MIDIs with TMIDIX MIDI processor\n",
        "\n",
        "print('=' * 70)\n",
        "print('TMIDIX MIDI Processor')\n",
        "print('=' * 70)\n",
        "print('Starting up...')\n",
        "print('=' * 70)\n",
        "\n",
        "###########\n",
        "\n",
        "melody_chords_f = []\n",
        "\n",
        "print('Processing MIDI files. Please wait...')\n",
        "print('=' * 70)\n",
        "\n",
        "for i in tqdm.tqdm(range(0, len(filez), 16)):\n",
        "\n",
        "  with parallel_config(backend='threading', n_jobs=16, verbose = 0):\n",
        "\n",
        "    output = Parallel()(delayed(TMIDIX_MIDI_Processor)(f) for f in filez[i:i+16])\n",
        "\n",
        "    for o in output:\n",
        "\n",
        "        if o is not None:\n",
        "            melody_chords_f.append(o)\n",
        "\n",
        "print('Done!')\n",
        "print('=' * 70)"
      ]
    },
    {
      "cell_type": "markdown",
      "source": [
        "# (SAVE/LOAD PROCESSED MIDIs)"
      ],
      "metadata": {
        "id": "Fx_QTxeNrHXJ"
      }
    },
    {
      "cell_type": "code",
      "execution_count": null,
      "metadata": {
        "id": "zjGwEKInQT8a",
        "cellView": "form"
      },
      "outputs": [],
      "source": [
        "# @title Save processed MIDIs\n",
        "TMIDIX.Tegridy_Any_Pickle_File_Writer(melody_chords_f, '/content/Processed_MIDIs')"
      ]
    },
    {
      "cell_type": "code",
      "execution_count": null,
      "metadata": {
        "id": "lZGSjKe9QUey",
        "cellView": "form"
      },
      "outputs": [],
      "source": [
        "# @title Load processed MIDIs\n",
        "melody_chords_f = TMIDIX.Tegridy_Any_Pickle_File_Reader('/content/Processed_MIDIs')\n",
        "print('Done!')"
      ]
    },
    {
      "cell_type": "markdown",
      "source": [
        "# (TEST PROCESSED MIDIs)"
      ],
      "metadata": {
        "id": "8a1AgF00rmdR"
      }
    },
    {
      "cell_type": "code",
      "execution_count": null,
      "metadata": {
        "id": "pvcxH5_CHwLZ",
        "cellView": "form"
      },
      "outputs": [],
      "source": [
        "#@title Test Processed MIDIs\n",
        "\n",
        "train_data1 = random.choice(melody_chords_f)[6]\n",
        "\n",
        "#train_data1 = max(melody_chords_f, key = len)\n",
        "\n",
        "print('Sample data:', train_data1[:15])\n",
        "\n",
        "out = train_data1\n",
        "\n",
        "patches = [0] * 16\n",
        "patches[3] = 40\n",
        "\n",
        "if len(out) != 0:\n",
        "\n",
        "    song = out\n",
        "    song_f = []\n",
        "\n",
        "    time = 0\n",
        "    dur = 0\n",
        "    vel = 90\n",
        "    pitch = 0\n",
        "    channel = 0\n",
        "\n",
        "    for ss in song[1:]:\n",
        "\n",
        "        chord = TMIDIX.ALL_CHORDS_SORTED[ss]\n",
        "\n",
        "        time += 200\n",
        "        dur = 200\n",
        "\n",
        "        for c in chord:\n",
        "\n",
        "          ptc1 = 48+c\n",
        "          ptc2 = 60+c\n",
        "\n",
        "          song_f.append(['note', time, dur, channel, ptc1, vel ])\n",
        "          song_f.append(['note', time, dur, channel, ptc2, vel ])\n",
        "\n",
        "detailed_stats = TMIDIX.Tegridy_ms_SONG_to_MIDI_Converter(song_f,\n",
        "                                                          output_signature = 'Chords Progressions Transformer',\n",
        "                                                          output_file_name = '/content/Chords-Progressions-Transformer-Composition',\n",
        "                                                          track_name='Project Los Angeles',\n",
        "                                                          )\n",
        "\n",
        "print('Done!')"
      ]
    },
    {
      "cell_type": "markdown",
      "source": [
        "# (PREP INTs)"
      ],
      "metadata": {
        "id": "hyxlnJI7sQAu"
      }
    },
    {
      "cell_type": "code",
      "execution_count": null,
      "metadata": {
        "id": "EMX0ynkxPtGH",
        "cellView": "form"
      },
      "outputs": [],
      "source": [
        "# @title Convert processed MIDIs to INTs\n",
        "SEQ_LEN = 1024\n",
        "PAD_IDX = 322\n",
        "\n",
        "print('=' * 70)\n",
        "\n",
        "train_data = []\n",
        "\n",
        "for m in tqdm.tqdm(melody_chords_f):\n",
        "  for dat in m:\n",
        "\n",
        "    dat = dat[:SEQ_LEN+1]\n",
        "    dat += [PAD_IDX] * ((SEQ_LEN+1) - len(dat))\n",
        "\n",
        "    train_data.append(dat)\n",
        "\n",
        "# Total dict size 644\n",
        "\n",
        "random.shuffle(train_data)\n",
        "\n",
        "print('Done!')\n",
        "print('=' * 70)\n",
        "print(len(train_data), max(train_data, key=len) == min(train_data, key=len))\n",
        "print('=' * 70)\n",
        "print(len(max(train_data, key=len)), len(min(train_data, key=len)))\n",
        "print('=' * 70)\n",
        "print(train_data[0][:15])\n",
        "print('=' * 70)"
      ]
    },
    {
      "cell_type": "markdown",
      "source": [
        "# (SAVE/LOAD INTs)"
      ],
      "metadata": {
        "id": "-1NUaRxrs5Rg"
      }
    },
    {
      "cell_type": "code",
      "execution_count": null,
      "metadata": {
        "id": "Z-omEbFmVlOI",
        "cellView": "form"
      },
      "outputs": [],
      "source": [
        "# @title Save INTs\n",
        "TMIDIX.Tegridy_Any_Pickle_File_Writer(train_data, '/content/Training_INTs')"
      ]
    },
    {
      "cell_type": "code",
      "execution_count": null,
      "metadata": {
        "id": "R7FtGA4lZ8ub",
        "cellView": "form"
      },
      "outputs": [],
      "source": [
        "# @title Load INTs\n",
        "train_data = TMIDIX.Tegridy_Any_Pickle_File_Reader('/content/Training_INTs')\n",
        "print('Done!')"
      ]
    },
    {
      "cell_type": "markdown",
      "source": [
        "# (PREP MODEL)"
      ],
      "metadata": {
        "id": "-QAltxP0v2PX"
      }
    },
    {
      "cell_type": "code",
      "execution_count": null,
      "metadata": {
        "id": "YVYD6nEGwU8z",
        "cellView": "form"
      },
      "outputs": [],
      "source": [
        "# @title Setup and init the model\n",
        "\n",
        "# constants\n",
        "\n",
        "SEQ_LEN = 1024 # Models seq len\n",
        "PAD_IDX = 322 # Models pad index\n",
        "\n",
        "BATCH_SIZE = 32\n",
        "NUM_EPOCHS = 200\n",
        "GRADIENT_ACCUMULATE_EVERY = 1\n",
        "\n",
        "LEARNING_RATE = 1e-4\n",
        "\n",
        "VALIDATE_EVERY  = 100\n",
        "SAVE_EVERY = 500\n",
        "GENERATE_EVERY  = 100\n",
        "PRINT_STATS_EVERY = 20\n",
        "\n",
        "GENERATE_LENGTH = 32\n",
        "\n",
        "# helpers\n",
        "\n",
        "def cycle(loader):\n",
        "    while True:\n",
        "        for data in loader:\n",
        "            yield data\n",
        "\n",
        "# instantiate the model\n",
        "\n",
        "model = TransformerWrapper(\n",
        "    num_tokens = PAD_IDX+1,\n",
        "    max_seq_len = SEQ_LEN,\n",
        "    attn_layers = Decoder(dim = 1024, depth = 4, heads = 16, attn_flash = True)\n",
        "    )\n",
        "\n",
        "model = AutoregressiveWrapper(model, ignore_index=PAD_IDX)\n",
        "\n",
        "model.cuda()\n",
        "\n",
        "print('Done!')\n",
        "\n",
        "summary(model)\n",
        "\n",
        "# Dataloader\n",
        "\n",
        "class MusicDataset(Dataset):\n",
        "    def __init__(self, data, seq_len):\n",
        "        super().__init__()\n",
        "        self.data = data\n",
        "        self.seq_len = seq_len\n",
        "\n",
        "    def __getitem__(self, index):\n",
        "\n",
        "        full_seq = torch.Tensor(self.data[index][:self.seq_len+1]).long()\n",
        "\n",
        "        return full_seq.cuda()\n",
        "\n",
        "    def __len__(self):\n",
        "        return (len(self.data) // BATCH_SIZE) * BATCH_SIZE\n",
        "\n",
        "# precision/optimizer/scaler\n",
        "\n",
        "dtype = torch.float16\n",
        "\n",
        "ctx = torch.amp.autocast(device_type='cuda', dtype=dtype, enabled=False)\n",
        "\n",
        "optim = torch.optim.Adam(model.parameters(), lr=LEARNING_RATE)\n",
        "\n",
        "scaler = torch.cuda.amp.GradScaler(enabled=False)"
      ]
    },
    {
      "cell_type": "markdown",
      "source": [
        "# (TRAIN MODEL)"
      ],
      "metadata": {
        "id": "bD8C6-upv5DS"
      }
    },
    {
      "cell_type": "code",
      "execution_count": null,
      "metadata": {
        "id": "p0viaFQJwzaf",
        "cellView": "form"
      },
      "outputs": [],
      "source": [
        "# @title Train the model\n",
        "\n",
        "train_losses = []\n",
        "val_losses = []\n",
        "\n",
        "train_accs = []\n",
        "val_accs = []\n",
        "\n",
        "nsteps = 0\n",
        "\n",
        "for ep in range(NUM_EPOCHS):\n",
        "\n",
        "  print('=' * 70)\n",
        "  print('Epoch #', ep)\n",
        "  print('=' * 70)\n",
        "\n",
        "  random.shuffle(train_data)\n",
        "\n",
        "  train_dataset = MusicDataset(train_data, SEQ_LEN)\n",
        "  val_dataset   = MusicDataset(train_data, SEQ_LEN)\n",
        "  train_loader  = cycle(DataLoader(train_dataset, batch_size = BATCH_SIZE))\n",
        "  val_loader    = cycle(DataLoader(val_dataset, batch_size = BATCH_SIZE))\n",
        "\n",
        "  NUM_BATCHES = len(train_data) // BATCH_SIZE // GRADIENT_ACCUMULATE_EVERY\n",
        "\n",
        "  for i in tqdm.tqdm(range(NUM_BATCHES), mininterval=10., desc='Training'):\n",
        "      model.train()\n",
        "\n",
        "      for __ in range(GRADIENT_ACCUMULATE_EVERY):\n",
        "          with ctx:\n",
        "              loss, acc = model(next(train_loader))\n",
        "          # loss = loss / GRADIENT_ACCUMULATE_EVERY\n",
        "          scaler.scale(loss).backward(torch.ones(loss.shape).cuda())\n",
        "\n",
        "      if i % PRINT_STATS_EVERY == 0:\n",
        "          print(f'Training loss: {loss.mean().item() * GRADIENT_ACCUMULATE_EVERY}')\n",
        "          print(f'Training acc: {acc.mean().item()}')\n",
        "\n",
        "      train_losses.append(loss.mean().item() * GRADIENT_ACCUMULATE_EVERY)\n",
        "      train_accs.append(acc.mean().item())\n",
        "\n",
        "      scaler.unscale_(optim)\n",
        "      torch.nn.utils.clip_grad_norm_(model.parameters(), 1.0)\n",
        "      scaler.step(optim)\n",
        "      scaler.update()\n",
        "      optim.zero_grad(set_to_none=True)\n",
        "\n",
        "      nsteps += 1\n",
        "\n",
        "      if i % VALIDATE_EVERY == 0:\n",
        "        model.eval()\n",
        "        with torch.no_grad():\n",
        "          with ctx:\n",
        "            val_loss, val_acc = model(next(val_loader))\n",
        "\n",
        "            print(f'Validation loss: {val_loss.mean().item()}')\n",
        "            print(f'Validation acc: {val_acc.mean().item()}')\n",
        "\n",
        "            val_losses.append(val_loss.mean().item())\n",
        "            val_accs.append(val_acc.mean().item())\n",
        "\n",
        "            print('Plotting training loss graph...')\n",
        "\n",
        "            tr_loss_list = train_losses\n",
        "            plt.plot([i for i in range(len(tr_loss_list))] ,tr_loss_list, 'b')\n",
        "            plt.show()\n",
        "            plt.close()\n",
        "            print('Done!')\n",
        "\n",
        "            print('Plotting training acc graph...')\n",
        "\n",
        "            tr_loss_list = train_accs\n",
        "            plt.plot([i for i in range(len(tr_loss_list))] ,tr_loss_list, 'b')\n",
        "            plt.show()\n",
        "            plt.close()\n",
        "            print('Done!')\n",
        "\n",
        "            print('Plotting validation loss graph...')\n",
        "            tr_loss_list = val_losses\n",
        "            plt.plot([i for i in range(len(tr_loss_list))] ,tr_loss_list, 'b')\n",
        "            plt.show()\n",
        "            plt.close()\n",
        "            print('Done!')\n",
        "\n",
        "            print('Plotting validation acc graph...')\n",
        "            tr_loss_list = val_accs\n",
        "            plt.plot([i for i in range(len(tr_loss_list))] ,tr_loss_list, 'b')\n",
        "            plt.show()\n",
        "            plt.close()\n",
        "            print('Done!')\n",
        "\n",
        "      if i % GENERATE_EVERY == 0:\n",
        "        model.eval()\n",
        "\n",
        "        inp = random.choice(val_dataset)[:512]\n",
        "\n",
        "        print(inp)\n",
        "\n",
        "        with ctx:\n",
        "\n",
        "            sample = model.generate(inp[None, ...], GENERATE_LENGTH)\n",
        "\n",
        "        print(sample)\n",
        "\n",
        "      if i % SAVE_EVERY == 0:\n",
        "\n",
        "          print('Saving model progress. Please wait...')\n",
        "          print('model_checkpoint_' + str(nsteps) + '_steps_' + str(round(float(train_losses[-1]), 4)) + '_loss_' + str(round(float(train_accs[-1]), 4)) + '_acc.pth')\n",
        "\n",
        "          fname = '/content/model_checkpoint_' + str(nsteps) + '_steps_' + str(round(float(train_losses[-1]), 4)) + '_loss_' + str(round(float(train_accs[-1]), 4)) + '_acc.pth'\n",
        "\n",
        "          torch.save(model.state_dict(), fname)\n",
        "\n",
        "          data = [train_losses, train_accs, val_losses, val_accs]\n",
        "\n",
        "          TMIDIX.Tegridy_Any_Pickle_File_Writer(data, '/content/losses_accs')\n",
        "\n",
        "          print('Done!')\n",
        "\n",
        "#======================================================================================================\n",
        "\n",
        "print('Saving model progress. Please wait...')\n",
        "print('model_checkpoint_' + str(nsteps) + '_steps_' + str(round(float(train_losses[-1]), 4)) + '_loss_' + str(round(float(train_accs[-1]), 4)) + '_acc.pth')\n",
        "\n",
        "fname = '/content/model_checkpoint_' + str(nsteps) + '_steps_' + str(round(float(train_losses[-1]), 4)) + '_loss_' + str(round(float(train_accs[-1]), 4)) + '_acc.pth'\n",
        "\n",
        "torch.save(model.state_dict(), fname)\n",
        "\n",
        "print('Done!')\n",
        "\n",
        "data = [train_losses, train_accs, val_losses, val_accs]\n",
        "\n",
        "TMIDIX.Tegridy_Any_Pickle_File_Writer(data, '/content/losses_accuracies')\n",
        "\n",
        "# Save training loss graph\n",
        "\n",
        "plt.plot([i for i in range(len(train_losses))] ,train_losses, 'b')\n",
        "plt.savefig('/content/training_loss_graph.png')\n",
        "plt.close()\n",
        "print('Done!')\n",
        "\n",
        "# Save training acc graph\n",
        "\n",
        "plt.plot([i for i in range(len(train_accs))] ,train_accs, 'b')\n",
        "plt.savefig('/content/training_acc_graph.png')\n",
        "plt.close()\n",
        "print('Done!')\n",
        "\n",
        "# Save validation loss graph\n",
        "\n",
        "plt.plot([i for i in range(len(val_losses))] ,val_losses, 'b')\n",
        "plt.savefig('/content/validation_loss_graph.png')\n",
        "plt.close()\n",
        "print('Done!')\n",
        "\n",
        "# Save validation acc graph\n",
        "\n",
        "plt.plot([i for i in range(len(val_accs))] ,val_accs, 'b')\n",
        "plt.savefig('/content/validation_acc_graph.png')\n",
        "plt.close()\n",
        "print('Done!')"
      ]
    },
    {
      "cell_type": "markdown",
      "source": [
        "# (SAVE MODEL)"
      ],
      "metadata": {
        "id": "KMMsfgZFv7Vl"
      }
    },
    {
      "cell_type": "code",
      "execution_count": null,
      "metadata": {
        "id": "ZRw_eBMDbYhl",
        "cellView": "form"
      },
      "outputs": [],
      "source": [
        "# @title Manual save\n",
        "print('Saving model progress. Please wait...')\n",
        "print('model_checkpoint_' + str(nsteps) + '_steps_' + str(round(float(train_losses[-1]), 4)) + '_loss_' + str(round(float(train_accs[-1]), 4)) + '_acc.pth')\n",
        "\n",
        "fname = '/content/model_checkpoint_' + str(nsteps) + '_steps_' + str(round(float(train_losses[-1]), 4)) + '_loss_' + str(round(float(train_accs[-1]), 4)) + '_acc.pth'\n",
        "\n",
        "torch.save(model.state_dict(), fname)\n",
        "\n",
        "print('Done!')\n",
        "\n",
        "data = [train_losses, train_accs, val_losses, val_accs]\n",
        "\n",
        "TMIDIX.Tegridy_Any_Pickle_File_Writer(data, '/content/losses_accuracies')\n",
        "\n",
        "# Save training loss graph\n",
        "\n",
        "plt.plot([i for i in range(len(train_losses))] ,train_losses, 'b')\n",
        "plt.savefig('/content/training_loss_graph.png')\n",
        "plt.close()\n",
        "print('Done!')\n",
        "\n",
        "# Save training acc graph\n",
        "\n",
        "plt.plot([i for i in range(len(train_accs))] ,train_accs, 'b')\n",
        "plt.savefig('/content/training_acc_graph.png')\n",
        "plt.close()\n",
        "print('Done!')\n",
        "\n",
        "# Save validation loss graph\n",
        "\n",
        "plt.plot([i for i in range(len(val_losses))] ,val_losses, 'b')\n",
        "plt.savefig('/content/validation_loss_graph.png')\n",
        "plt.close()\n",
        "print('Done!')\n",
        "\n",
        "# Save validation acc graph\n",
        "\n",
        "plt.plot([i for i in range(len(val_accs))] ,val_accs, 'b')\n",
        "plt.savefig('/content/validation_acc_graph.png')\n",
        "plt.close()\n",
        "print('Done!')"
      ]
    },
    {
      "cell_type": "markdown",
      "metadata": {
        "id": "EjMO6u5N1uX7"
      },
      "source": [
        "# (EVAL MODEL)"
      ]
    },
    {
      "cell_type": "code",
      "execution_count": null,
      "metadata": {
        "id": "eIIqeaipzVil",
        "cellView": "form"
      },
      "outputs": [],
      "source": [
        "# @title Eval model\n",
        "dtype = 'float16'\n",
        "device_type = 'cuda'\n",
        "ptdtype = {'float32': torch.float32, 'bfloat16': torch.bfloat16, 'float16': torch.float16}[dtype]\n",
        "ctx = torch.amp.autocast(device_type=device_type, dtype=ptdtype)\n",
        "\n",
        "model.eval()\n",
        "\n",
        "x = torch.tensor(random.choice(train_data)[:128], dtype=torch.long, device='cuda')[None, ...]\n",
        "x = torch.tensor([[321]] * 1, dtype=torch.long, device='cuda')\n",
        "\n",
        "\n",
        "# run generation\n",
        "\n",
        "#with ctx:\n",
        "out = model.generate(x,\n",
        "                    128,\n",
        "                    temperature=0.9,\n",
        "                    return_prime=False,\n",
        "                    verbose=True)\n",
        "\n",
        "y = out.tolist()\n",
        "\n",
        "print('---------------')\n",
        "print(y[0])"
      ]
    },
    {
      "cell_type": "code",
      "source": [
        "#@title Convert output INTs to MIDI\n",
        "\n",
        "train_data1 = y[0] # batch number goes here\n",
        "\n",
        "print('Sample INTs', train_data1[:15])\n",
        "\n",
        "out = train_data1\n",
        "\n",
        "patches = [0] * 16\n",
        "patches[3] = 40\n",
        "\n",
        "if len(out) != 0:\n",
        "\n",
        "    song = out\n",
        "    song_f = []\n",
        "\n",
        "    time = 0\n",
        "    dur = 0\n",
        "    vel = 90\n",
        "    pitch = 0\n",
        "    channel = 0\n",
        "\n",
        "    for ss in song:\n",
        "\n",
        "        chord = TMIDIX.ALL_CHORDS_SORTED[ss]\n",
        "\n",
        "        time += 200\n",
        "        dur = 200\n",
        "\n",
        "        for c in chord:\n",
        "\n",
        "          ptc1 = 48+c\n",
        "          ptc2 = 60+c\n",
        "\n",
        "          song_f.append(['note', time, dur, channel, ptc1, vel ])\n",
        "          song_f.append(['note', time, dur, channel, ptc2, vel ])\n",
        "\n",
        "detailed_stats = TMIDIX.Tegridy_ms_SONG_to_MIDI_Converter(song_f,\n",
        "                                                          output_signature = 'Chords Progressions Transformer',\n",
        "                                                          output_file_name = '/content/Chords-Progressions-Transformer-Composition',\n",
        "                                                          track_name='Project Los Angeles',\n",
        "                                                          )\n",
        "\n",
        "print('Done!')"
      ],
      "metadata": {
        "id": "R3bWqB20ras6",
        "cellView": "form"
      },
      "execution_count": null,
      "outputs": []
    },
    {
      "cell_type": "markdown",
      "source": [
        "# (PLOT TOKENS EMBEDDINGS)"
      ],
      "metadata": {
        "id": "5EnFAyQnwKYh"
      }
    },
    {
      "cell_type": "code",
      "execution_count": null,
      "metadata": {
        "id": "8745GbH2zYpZ",
        "cellView": "form"
      },
      "outputs": [],
      "source": [
        "# @title Plot model tokens embeddings\n",
        "tok_emb = model.net.token_emb.emb.weight.detach().cpu().tolist()\n",
        "\n",
        "cos_sim = metrics.pairwise_distances(\n",
        "  tok_emb, metric='cosine'\n",
        ")\n",
        "plt.figure(figsize=(7, 7))\n",
        "plt.imshow(cos_sim, cmap=\"inferno\", interpolation=\"nearest\")\n",
        "im_ratio = cos_sim.shape[0] / cos_sim.shape[1]\n",
        "plt.colorbar(fraction=0.046 * im_ratio, pad=0.04)\n",
        "plt.xlabel(\"Position\")\n",
        "plt.ylabel(\"Position\")\n",
        "plt.tight_layout()\n",
        "plt.plot()\n",
        "plt.savefig(\"/content/Chords-Progressions-Transformer-Tokens-Embeddings-Plot.png\", bbox_inches=\"tight\")"
      ]
    },
    {
      "cell_type": "markdown",
      "metadata": {
        "id": "YzCMd94Tu_gz"
      },
      "source": [
        "# Congrats! You did it! :)"
      ]
    }
  ],
  "metadata": {
    "colab": {
      "private_outputs": true,
      "provenance": [],
      "gpuType": "V100"
    },
    "kernelspec": {
      "display_name": "Python 3",
      "name": "python3"
    },
    "language_info": {
      "codemirror_mode": {
        "name": "ipython",
        "version": 3
      },
      "file_extension": ".py",
      "mimetype": "text/x-python",
      "name": "python",
      "nbconvert_exporter": "python",
      "pygments_lexer": "ipython3",
      "version": "3.10.12"
    },
    "accelerator": "GPU"
  },
  "nbformat": 4,
  "nbformat_minor": 0
}